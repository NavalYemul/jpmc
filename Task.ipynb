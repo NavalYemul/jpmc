{
 "cells": [
  {
   "cell_type": "code",
   "execution_count": 0,
   "metadata": {
    "application/vnd.databricks.v1+cell": {
     "cellMetadata": {},
     "inputWidgets": {},
     "nuid": "e36d4923-a092-41c1-a93a-66db24e106d0",
     "showTitle": false,
     "tableResultSettingsMap": {},
     "title": ""
    }
   },
   "outputs": [],
   "source": [
    "input_files=\"/Volumes/dev/default/task\"\n",
    "\n",
    "1.customers.csv\n",
    "2.transactions.csv"
   ]
  },
  {
   "cell_type": "markdown",
   "metadata": {
    "application/vnd.databricks.v1+cell": {
     "cellMetadata": {},
     "inputWidgets": {},
     "nuid": "4a381c5d-555d-42ef-9559-1e78eb9a8c93",
     "showTitle": false,
     "tableResultSettingsMap": {},
     "title": ""
    }
   },
   "source": [
    "## Task Overview (Deliverables)\n",
    "- 1. Create 3 schema with your names in dev catalog (for eg dev.naval_bronze, dev.naval_silver etc)\n",
    "- 2. Bronze Layer: Batch Ingestion \n",
    "    - Ingest customers.csv and transactions.csv to bronze schemas\n",
    "- 3. Silver Layer: Cleaning & Enrichment\n",
    "    - Drop Duplicates and nulls\n",
    "    - Join with txn table with customers to enrich\n",
    "- 4. Write to Silver schema\n",
    "- 5. Gold Layer: Aggregated Views\n",
    "    - Total spend per customer\n",
    "    - Monthly spend by category\n",
    "- 6. Delta Optimizations \n",
    "    - Optimize file layout for faster reads\n",
    "    - Vacuum old data files\n",
    "- 7. Visualizations\n",
    "    - Bar charts showing spend patterns"
   ]
  }
 ],
 "metadata": {
  "application/vnd.databricks.v1+notebook": {
   "computePreferences": null,
   "dashboards": [],
   "environmentMetadata": {
    "base_environment": "",
    "environment_version": "2"
   },
   "inputWidgetPreferences": null,
   "language": "sql",
   "notebookMetadata": {
    "pythonIndentUnit": 4
   },
   "notebookName": "Task",
   "widgets": {}
  },
  "language_info": {
   "name": "sql"
  }
 },
 "nbformat": 4,
 "nbformat_minor": 0
}
